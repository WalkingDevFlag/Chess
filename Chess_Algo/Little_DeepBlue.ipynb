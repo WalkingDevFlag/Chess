{
 "cells": [
  {
   "cell_type": "code",
   "execution_count": 1,
   "metadata": {},
   "outputs": [
    {
     "name": "stdout",
     "output_type": "stream",
     "text": [
      "Writing Little_DeepBlue.py\n"
     ]
    }
   ],
   "source": [
    "%%writefile Little_DeepBlue.py\n",
    "\n",
    "import time\n",
    "from Chessnut import Game\n",
    "import random\n",
    "\n",
    "def Little_DeepBlue(obs):\n",
    "    \"\"\"\n",
    "    A heuristic-based chess bot that prioritizes:\n",
    "    - Checkmates\n",
    "    - Captures\n",
    "    - Promotions\n",
    "    - Random moves\n",
    "    Args:\n",
    "        obs: Object with 'board' representing board state as FEN string\n",
    "    Returns:\n",
    "        Move in UCI notation\n",
    "    \"\"\"\n",
    "    game = Game(obs.board)\n",
    "    moves = list(game.get_moves())\n",
    "    random.shuffle(moves)  # Randomize moves to add variation\n",
    "\n",
    "    # Prioritize checkmates\n",
    "    for move in moves[:10]:\n",
    "        g = Game(obs.board)\n",
    "        g.apply_move(move)\n",
    "        if g.status == Game.CHECKMATE:\n",
    "            return move\n",
    "\n",
    "    # Check for captures\n",
    "    for move in moves:\n",
    "        if game.board.get_piece(Game.xy2i(move[2:4])) != ' ':\n",
    "            return move\n",
    "\n",
    "    # Check for promotions\n",
    "    for move in moves:\n",
    "        if \"q\" in move.lower():  # Queen promotion\n",
    "            return move\n",
    "\n",
    "    # Default to random move\n",
    "    return random.choice(moves)"
   ]
  }
 ],
 "metadata": {
  "kernelspec": {
   "display_name": "kaggle_chess",
   "language": "python",
   "name": "python3"
  },
  "language_info": {
   "codemirror_mode": {
    "name": "ipython",
    "version": 3
   },
   "file_extension": ".py",
   "mimetype": "text/x-python",
   "name": "python",
   "nbconvert_exporter": "python",
   "pygments_lexer": "ipython3",
   "version": "3.10.15"
  }
 },
 "nbformat": 4,
 "nbformat_minor": 2
}
